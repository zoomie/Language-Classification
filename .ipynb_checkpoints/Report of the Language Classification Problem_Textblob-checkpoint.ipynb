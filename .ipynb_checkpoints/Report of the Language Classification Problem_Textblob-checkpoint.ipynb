{
 "cells": [
  {
   "cell_type": "markdown",
   "metadata": {},
   "source": [
    "# The Language Classification Problem\n",
    "\n",
    "Due to time constraints a full report was not constructed but the code was attempted.\n",
    "\n",
    "## Libraries \n",
    "Pandas was used to manipulate the data.\n",
    "Textblog was used to process the tectual data and it has a built in NaiveBayes Classifier.\n",
    "Numpy was used for it's random function.\n"
   ]
  },
  {
   "cell_type": "code",
   "execution_count": 1,
   "metadata": {},
   "outputs": [
    {
     "data": {
      "text/html": [
       "<div>\n",
       "<style>\n",
       "    .dataframe thead tr:only-child th {\n",
       "        text-align: right;\n",
       "    }\n",
       "\n",
       "    .dataframe thead th {\n",
       "        text-align: left;\n",
       "    }\n",
       "\n",
       "    .dataframe tbody tr th {\n",
       "        vertical-align: top;\n",
       "    }\n",
       "</style>\n",
       "<table border=\"1\" class=\"dataframe\">\n",
       "  <thead>\n",
       "    <tr style=\"text-align: right;\">\n",
       "      <th></th>\n",
       "      <th>text</th>\n",
       "      <th>language</th>\n",
       "    </tr>\n",
       "  </thead>\n",
       "  <tbody>\n",
       "    <tr>\n",
       "      <th>0</th>\n",
       "      <td>Ship shape and Bristol fashion</td>\n",
       "      <td>English</td>\n",
       "    </tr>\n",
       "    <tr>\n",
       "      <th>1</th>\n",
       "      <td>Know the ropes</td>\n",
       "      <td>English</td>\n",
       "    </tr>\n",
       "    <tr>\n",
       "      <th>2</th>\n",
       "      <td>Graveyard shift</td>\n",
       "      <td>English</td>\n",
       "    </tr>\n",
       "    <tr>\n",
       "      <th>3</th>\n",
       "      <td>Milk of human kindness</td>\n",
       "      <td>English</td>\n",
       "    </tr>\n",
       "    <tr>\n",
       "      <th>4</th>\n",
       "      <td>Touch with a barge-pole - Wouldn't</td>\n",
       "      <td>English</td>\n",
       "    </tr>\n",
       "  </tbody>\n",
       "</table>\n",
       "</div>"
      ],
      "text/plain": [
       "                                 text language\n",
       "0      Ship shape and Bristol fashion  English\n",
       "1                      Know the ropes  English\n",
       "2                     Graveyard shift  English\n",
       "3              Milk of human kindness  English\n",
       "4  Touch with a barge-pole - Wouldn't  English"
      ]
     },
     "execution_count": 1,
     "metadata": {},
     "output_type": "execute_result"
    }
   ],
   "source": [
    "import pandas as pd  \n",
    "import numpy as np  \n",
    "from textblob.classifiers import NaiveBayesClassifier  \n",
    "import os\n",
    "os.chdir('/home/andrew/Documents/MachineL/Post/Language-Classification')   # Set file directory\n",
    "datafull = pd.read_csv('lang_data.csv')  # Read and assign data file\n",
    "datafull.head()   "
   ]
  },
  {
   "cell_type": "markdown",
   "metadata": {},
   "source": [
    "## Preparation \n",
    "Remove the missing values from the text column."
   ]
  },
  {
   "cell_type": "code",
   "execution_count": 2,
   "metadata": {
    "collapsed": true
   },
   "outputs": [],
   "source": [
    "df = datafull[pd.notnull(datafull['text'])]"
   ]
  },
  {
   "cell_type": "markdown",
   "metadata": {},
   "source": [
    "## Two stage classification\n",
    "\n",
    "There are few Nederlands examples relative to English and Afrikaans, to solve this class imbalance problem the model will use a two-stage classification. \n",
    "\n",
    "1st stage: Differentiate between English or (Afrikaans + Nederlands). \n",
    "\n",
    "2nd: Differentiate between Afrikaans or Nederlands. \n",
    "\n",
    "This requires the combination of all the Afrikaans and Nederlands rows for the first classifier and the second classifier will only look at the Afrikaans and Nederlands (When they are not combined).\n",
    "\n",
    "\n",
    "### 1st stage data preparation"
   ]
  },
  {
   "cell_type": "code",
   "execution_count": 4,
   "metadata": {},
   "outputs": [
    {
     "data": {
      "text/html": [
       "<div>\n",
       "<style>\n",
       "    .dataframe thead tr:only-child th {\n",
       "        text-align: right;\n",
       "    }\n",
       "\n",
       "    .dataframe thead th {\n",
       "        text-align: left;\n",
       "    }\n",
       "\n",
       "    .dataframe tbody tr th {\n",
       "        vertical-align: top;\n",
       "    }\n",
       "</style>\n",
       "<table border=\"1\" class=\"dataframe\">\n",
       "  <thead>\n",
       "    <tr style=\"text-align: right;\">\n",
       "      <th></th>\n",
       "      <th>text</th>\n",
       "      <th>language</th>\n",
       "    </tr>\n",
       "  </thead>\n",
       "  <tbody>\n",
       "    <tr>\n",
       "      <th>2821</th>\n",
       "      <td>Vergelyk eers wat jy het met wat jy nie het ni...</td>\n",
       "      <td>Afikaans+Nederlands</td>\n",
       "    </tr>\n",
       "    <tr>\n",
       "      <th>2825</th>\n",
       "      <td>Wat is die belangrikste – geluk of sukses?</td>\n",
       "      <td>Afikaans+Nederlands</td>\n",
       "    </tr>\n",
       "    <tr>\n",
       "      <th>2826</th>\n",
       "      <td>Waar rook is, is vuur.</td>\n",
       "      <td>Afikaans+Nederlands</td>\n",
       "    </tr>\n",
       "    <tr>\n",
       "      <th>2832</th>\n",
       "      <td>Die boer se voetspore is die beste misstof op ...</td>\n",
       "      <td>Afikaans+Nederlands</td>\n",
       "    </tr>\n",
       "    <tr>\n",
       "      <th>2834</th>\n",
       "      <td>Daar’s ‘n geurtjie aan.</td>\n",
       "      <td>Afikaans+Nederlands</td>\n",
       "    </tr>\n",
       "  </tbody>\n",
       "</table>\n",
       "</div>"
      ],
      "text/plain": [
       "                                                   text             language\n",
       "2821  Vergelyk eers wat jy het met wat jy nie het ni...  Afikaans+Nederlands\n",
       "2825         Wat is die belangrikste – geluk of sukses?  Afikaans+Nederlands\n",
       "2826                             Waar rook is, is vuur.  Afikaans+Nederlands\n",
       "2832  Die boer se voetspore is die beste misstof op ...  Afikaans+Nederlands\n",
       "2834                            Daar’s ‘n geurtjie aan.  Afikaans+Nederlands"
      ]
     },
     "execution_count": 4,
     "metadata": {},
     "output_type": "execute_result"
    }
   ],
   "source": [
    "# Makes a column in a dataframe with'Afrikaans+Nederlands' \n",
    "filename = 'Afikaans+Nederlands'\n",
    "numbers = np.random.randn(2839) # must be larger that dataframe and join will match the columns\n",
    "tf = pd.DataFrame({'language': filename , 'numbers': numbers})\n",
    "AfriNedercol = tf.drop(['numbers'], axis=1)\n",
    "\n",
    "\n",
    "# Pull all the rows with Nederland and Afrikaans and then drop the language column\n",
    "dfNederAfri = df[(df['language'] == \"Nederlands\") | (df['language'] == \"Afrikaans\")]\n",
    "dfNederAfri_nocol = dfNederAfri.drop(['language'], axis=1)\n",
    "\n",
    "#Add the column Afrikaans + Nederlands\n",
    "temp_AfriNeder = dfNederAfri_nocol.join(AfriNedercol)\n",
    "\n",
    "# Pull all the English rows\n",
    "Engcol = df[(df['language'] == \"English\")]\n",
    "\n",
    "# Add all the English rows to the new 'Afrikaans + English' rows\n",
    "df_Eng_or_AfriandNeder = Engcol.append(temp_AfriNeder) \n",
    "df_Eng_or_AfriandNeder.tail()"
   ]
  },
  {
   "cell_type": "code",
   "execution_count": 5,
   "metadata": {
    "scrolled": true
   },
   "outputs": [
    {
     "data": {
      "text/plain": [
       "list"
      ]
     },
     "execution_count": 5,
     "metadata": {},
     "output_type": "execute_result"
    }
   ],
   "source": [
    "# Convert the dataframe to list: one possible input criteria for textblob\n",
    "list_Eng_or_AfriandNeder=[]\n",
    "df_Eng_or_AfriandNeder\n",
    "\n",
    "for row in df_Eng_or_AfriandNeder.iterrows():\n",
    "    index, data = row\n",
    "    list_Eng_or_AfriandNeder.append(data.tolist())\n",
    "\n",
    "type(list_Eng_or_AfriandNeder)"
   ]
  },
  {
   "cell_type": "markdown",
   "metadata": {},
   "source": [
    "### 1st stage classification\n",
    "\n",
    "The first model gets trained on the data set that has the rows combined for Afrikaans and Nederlands (This data also includes the English columns)."
   ]
  },
  {
   "cell_type": "code",
   "execution_count": 6,
   "metadata": {
    "collapsed": true
   },
   "outputs": [],
   "source": [
    "# Training the textblob classifier \n",
    "Cl_Eng_or_AfriandNeder = NaiveBayesClassifier(list_Eng_or_AfriandNeder) # To add a feature (, feature_extractor=new_feature)\n",
    "\n",
    "# Cl_Eng_or_AfriandNeder.classify(\"Put words to be translated here\") # <- How to call the classification"
   ]
  },
  {
   "cell_type": "markdown",
   "metadata": {},
   "source": [
    "### 2nd stage data preparation"
   ]
  },
  {
   "cell_type": "code",
   "execution_count": 7,
   "metadata": {},
   "outputs": [
    {
     "data": {
      "text/plain": [
       "list"
      ]
     },
     "execution_count": 7,
     "metadata": {},
     "output_type": "execute_result"
    }
   ],
   "source": [
    "# Take the Afrikaans and Nederlands part of the dataframe and puts it into a list\n",
    "\n",
    "list_NederorAfri=[]\n",
    "dfNederAfri = df[(df['language'] == \"Afrikaans\") | (df['language'] == \"Nederlands\")]\n",
    "\n",
    "for row in dfNederAfri.iterrows():\n",
    "    index, data = row\n",
    "    list_NederorAfri.append(data.tolist())\n",
    "type(list_NederorAfri)"
   ]
  },
  {
   "cell_type": "markdown",
   "metadata": {},
   "source": [
    "### 2nd stage classification\n",
    "\n",
    "The second model then trained on only Afrikaans and Nederlands rows (NB this model was not trained on any English rows)"
   ]
  },
  {
   "cell_type": "code",
   "execution_count": 8,
   "metadata": {
    "collapsed": true
   },
   "outputs": [],
   "source": [
    "# Trains the Classifier to determine between Afrikaans and Nederlands\n",
    "Cl_Neder_or_Afri = NaiveBayesClassifier(list_NederorAfri) \n",
    "\n",
    "# Cl_Neder_or_Afri.classify(\"Put words to be translated here\") # <- How to call the classification"
   ]
  },
  {
   "cell_type": "markdown",
   "metadata": {},
   "source": [
    "## Combining stages into SelectLanguage function\n",
    "\n",
    "The first if statement determines if the language is English or Afrikaans + Nederlands.\n",
    "\n",
    "The second if statement then determines if the language is Afrikaans or Nederlands."
   ]
  },
  {
   "cell_type": "code",
   "execution_count": 9,
   "metadata": {
    "collapsed": true
   },
   "outputs": [],
   "source": [
    "def SelectLanguage(wordsin): \n",
    "    \n",
    "    if (Cl_Eng_or_AfriandNeder.classify(wordsin) == 'English'):\n",
    "        return 'English'\n",
    "    \n",
    "    elif (Cl_Neder_or_Afri.classify(wordsin) == 'Afrikaans'):\n",
    "        return 'Afrikaans'\n",
    "    else:\n",
    "        return 'Nederlands'        "
   ]
  },
  {
   "cell_type": "code",
   "execution_count": 10,
   "metadata": {},
   "outputs": [
    {
     "name": "stdout",
     "output_type": "stream",
     "text": [
      "English\n",
      "Afrikaans\n",
      "Nederlands\n"
     ]
    }
   ],
   "source": [
    "# Testing ground: Can call the function SelectLanguage \n",
    "print(SelectLanguage(\"You should not sell the skin before the bear is shot.\"))\n",
    "print(SelectLanguage(\"Jy moet nie die vel verkoop voordat die beer geskiet is nie\"))\n",
    "print(SelectLanguage(\"Je moet de huid niet verkopen voordat de beer geschoten is.\"))"
   ]
  },
  {
   "cell_type": "markdown",
   "metadata": {},
   "source": [
    "##  Model’s architecture\n",
    "\n",
    "The textblob classifier uses separate words as features. Some additional features where tested (Vowel ratio, Repeating letters, Length) but these either didn't work or overfit. The accuracy goes up with an increase in the number of words used in the string. "
   ]
  },
  {
   "cell_type": "code",
   "execution_count": 13,
   "metadata": {},
   "outputs": [
    {
     "name": "stdout",
     "output_type": "stream",
     "text": [
      "Most Informative Features\n",
      "             contains(n) = True           Afikaa : Englis =    373.2 : 1.0\n",
      "           contains(Die) = True           Afikaa : Englis =    169.6 : 1.0\n",
      "           contains(die) = True           Afikaa : Englis =    147.7 : 1.0\n",
      "             contains(a) = True           Englis : Afikaa =     54.7 : 1.0\n",
      "             contains(A) = True           Englis : Afikaa =     30.6 : 1.0\n"
     ]
    }
   ],
   "source": [
    "Cl_Eng_or_AfriandNeder.show_informative_features(5)      # English or (Afrikaans + Nederlands)"
   ]
  },
  {
   "cell_type": "code",
   "execution_count": 14,
   "metadata": {},
   "outputs": [
    {
     "name": "stdout",
     "output_type": "stream",
     "text": [
      "Most Informative Features\n",
      "           contains(Wie) = True           Nederl : Afrika =     40.8 : 1.0\n",
      "           contains(Het) = True           Nederl : Afrika =     22.0 : 1.0\n",
      "           contains(één) = True           Nederl : Afrika =     13.2 : 1.0\n",
      "         contains(blind) = True           Nederl : Afrika =      9.4 : 1.0\n",
      "           contains(oog) = True           Nederl : Afrika =      9.4 : 1.0\n"
     ]
    }
   ],
   "source": [
    "Cl_Neder_or_Afri.show_informative_features(5)            # Afrikaans of Nederlands"
   ]
  },
  {
   "cell_type": "markdown",
   "metadata": {},
   "source": [
    "## Accuracy of the model"
   ]
  },
  {
   "cell_type": "code",
   "execution_count": 15,
   "metadata": {},
   "outputs": [
    {
     "data": {
      "text/html": [
       "<div>\n",
       "<style>\n",
       "    .dataframe thead tr:only-child th {\n",
       "        text-align: right;\n",
       "    }\n",
       "\n",
       "    .dataframe thead th {\n",
       "        text-align: left;\n",
       "    }\n",
       "\n",
       "    .dataframe tbody tr th {\n",
       "        vertical-align: top;\n",
       "    }\n",
       "</style>\n",
       "<table border=\"1\" class=\"dataframe\">\n",
       "  <thead>\n",
       "    <tr style=\"text-align: right;\">\n",
       "      <th></th>\n",
       "      <th>text</th>\n",
       "    </tr>\n",
       "    <tr>\n",
       "      <th>language</th>\n",
       "      <th></th>\n",
       "    </tr>\n",
       "  </thead>\n",
       "  <tbody>\n",
       "    <tr>\n",
       "      <th>English</th>\n",
       "      <td>Ship shape and Bristol fashion</td>\n",
       "    </tr>\n",
       "    <tr>\n",
       "      <th>English</th>\n",
       "      <td>Know the ropes</td>\n",
       "    </tr>\n",
       "    <tr>\n",
       "      <th>English</th>\n",
       "      <td>Graveyard shift</td>\n",
       "    </tr>\n",
       "    <tr>\n",
       "      <th>English</th>\n",
       "      <td>Milk of human kindness</td>\n",
       "    </tr>\n",
       "    <tr>\n",
       "      <th>English</th>\n",
       "      <td>Touch with a barge-pole - Wouldn't</td>\n",
       "    </tr>\n",
       "  </tbody>\n",
       "</table>\n",
       "</div>"
      ],
      "text/plain": [
       "                                        text\n",
       "language                                    \n",
       "English       Ship shape and Bristol fashion\n",
       "English                       Know the ropes\n",
       "English                      Graveyard shift\n",
       "English               Milk of human kindness\n",
       "English   Touch with a barge-pole - Wouldn't"
      ]
     },
     "execution_count": 15,
     "metadata": {},
     "output_type": "execute_result"
    }
   ],
   "source": [
    "# Setting an index column so that that the type of language can be put into a for loop\n",
    "df.set_index(\"language\", inplace=True)\n",
    "df.head()"
   ]
  },
  {
   "cell_type": "code",
   "execution_count": 16,
   "metadata": {},
   "outputs": [
    {
     "data": {
      "text/plain": [
       "2055"
      ]
     },
     "execution_count": 16,
     "metadata": {},
     "output_type": "execute_result"
    }
   ],
   "source": [
    "# Pulling all the English rows and counting the number of times the SelectLanguage function gets it correct\n",
    "English = df.loc['English']\n",
    "list_English = English['text'].tolist()\n",
    "\n",
    "e=0\n",
    "for x in range(len(list_English)):\n",
    "    \n",
    "    if(SelectLanguage(list_English[x]) == 'English'):\n",
    "        e = e+1\n",
    "e        "
   ]
  },
  {
   "cell_type": "code",
   "execution_count": 17,
   "metadata": {},
   "outputs": [
    {
     "data": {
      "text/plain": [
       "616"
      ]
     },
     "execution_count": 17,
     "metadata": {},
     "output_type": "execute_result"
    }
   ],
   "source": [
    "# Pulling all the Afrikaans rows and counting the number of times the SelectLanguage function gets it correct\n",
    "Afrikaans = df.loc['Afrikaans']\n",
    "list_Afrikaans = Afrikaans['text'].tolist()\n",
    "\n",
    "a=0\n",
    "for x in range(len(list_Afrikaans)):\n",
    "    \n",
    "    if(SelectLanguage(list_Afrikaans[x]) == 'Afrikaans'):\n",
    "        a = a+1\n",
    "a"
   ]
  },
  {
   "cell_type": "code",
   "execution_count": 18,
   "metadata": {},
   "outputs": [
    {
     "data": {
      "text/plain": [
       "40"
      ]
     },
     "execution_count": 18,
     "metadata": {},
     "output_type": "execute_result"
    }
   ],
   "source": [
    "# Pulling all the Nederlands rows and counting the number of times the SelectLanguage function gets it correct\n",
    "Nederlands = df.loc['Nederlands']\n",
    "list_Nederlands = Nederlands['text'].tolist()\n",
    "\n",
    "n=0\n",
    "for x in range(len(list_Nederlands)):\n",
    "    \n",
    "    if(SelectLanguage(list_Nederlands[x]) == 'Nederlands'):\n",
    "        n = n+1\n",
    "n"
   ]
  },
  {
   "cell_type": "code",
   "execution_count": 19,
   "metadata": {},
   "outputs": [
    {
     "name": "stdout",
     "output_type": "stream",
     "text": [
      "The accuracy of English is = 1.0\n",
      "The accuracy of Afrikaans is = 0.9640062597809077\n",
      "The accuracy of Nederlands is = 0.5970149253731343\n"
     ]
    }
   ],
   "source": [
    "# Results\n",
    "# The relative proportion of the number of times SelectLanguage got it correct over the length of the list\n",
    "print('The accuracy of English is =', e/len(list_English))\n",
    "print('The accuracy of Afrikaans is =', a/len(list_Afrikaans))\n",
    "print('The accuracy of Nederlands is =', n/len(list_Nederlands))\n",
    "\n",
    "# The SelectLanguage function has a low accuracy with Nederlands"
   ]
  },
  {
   "cell_type": "markdown",
   "metadata": {
    "collapsed": true
   },
   "source": [
    "## Improvements\n",
    "The Nederlands predictor is very low, it could possibly be improved\n",
    "by incorporating letter grouping (for example groups of three letters that are more likely to be a specific language)."
   ]
  },
  {
   "cell_type": "markdown",
   "metadata": {},
   "source": []
  },
  {
   "cell_type": "markdown",
   "metadata": {},
   "source": []
  },
  {
   "cell_type": "markdown",
   "metadata": {},
   "source": []
  },
  {
   "cell_type": "markdown",
   "metadata": {},
   "source": []
  },
  {
   "cell_type": "markdown",
   "metadata": {
    "collapsed": true
   },
   "source": []
  },
  {
   "cell_type": "markdown",
   "metadata": {
    "collapsed": true
   },
   "source": [
    "\n"
   ]
  },
  {
   "cell_type": "markdown",
   "metadata": {
    "collapsed": true
   },
   "source": []
  }
 ],
 "metadata": {
  "kernelspec": {
   "display_name": "Python 2",
   "language": "python",
   "name": "python2"
  },
  "language_info": {
   "codemirror_mode": {
    "name": "ipython",
    "version": 2
   },
   "file_extension": ".py",
   "mimetype": "text/x-python",
   "name": "python",
   "nbconvert_exporter": "python",
   "pygments_lexer": "ipython2",
   "version": "2.7.14"
  }
 },
 "nbformat": 4,
 "nbformat_minor": 2
}
